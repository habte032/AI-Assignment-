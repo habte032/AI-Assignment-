{
  "nbformat": 4,
  "nbformat_minor": 0,
  "metadata": {
    "colab": {
      "provenance": []
    },
    "kernelspec": {
      "name": "python3",
      "display_name": "Python 3"
    },
    "language_info": {
      "name": "python"
    }
  },
  "cells": [
    {
      "cell_type": "code",
      "execution_count": null,
      "metadata": {
        "colab": {
          "base_uri": "https://localhost:8080/"
        },
        "id": "gb0qUVZqHvaO",
        "outputId": "d94b532d-d182-46fe-cc3c-eb1d531e9e69"
      },
      "outputs": [
        {
          "name": "stdout",
          "output_type": "stream",
          "text": [
            "Enter the number of players (1 or 2): 1\n",
            "Enter your choice (rock/paper/scissors): rock\n",
            "Computer chose: rock\n",
            "Tie!\n",
            "Game statistics:\n",
            "Player 1 score: 0\n",
            "Player 2 score: 0\n",
            "Ties: 1\n",
            "Do you want to play again? (yes/no): yes\n",
            "Enter your choice (rock/paper/scissors): paper\n",
            "Computer chose: paper\n",
            "Tie!\n",
            "Game statistics:\n",
            "Player 1 score: 0\n",
            "Player 2 score: 0\n",
            "Ties: 2\n",
            "Do you want to play again? (yes/no): yes\n",
            "Enter your choice (rock/paper/scissors): paper\n",
            "Computer chose: scissors\n",
            "Player 2 wins!\n",
            "Game statistics:\n",
            "Player 1 score: 0\n",
            "Player 2 score: 1\n",
            "Ties: 2\n",
            "Do you want to play again? (yes/no): no\n"
          ]
        }
      ],
      "source": [
        "import random\n",
        "\n",
        "class Game:\n",
        "    def __init__(self):\n",
        "        self.player1_score = 0\n",
        "        self.player2_score = 0\n",
        "        self.tie_score = 0\n",
        "\n",
        "    def play(self, player1_choice, player2_choice=None):\n",
        "        if player2_choice is None:\n",
        "            computer_choice = random.choice([\"rock\", \"paper\", \"scissors\"])\n",
        "            print(\"Computer chose:\", computer_choice)\n",
        "            self.determine_winner(player1_choice, computer_choice)\n",
        "        else:\n",
        "            print(\"Player 2 chose:\", player2_choice)\n",
        "            self.determine_winner(player1_choice, player2_choice)\n",
        "\n",
        "    def determine_winner(self, player1_choice, player2_choice):\n",
        "        if player1_choice == player2_choice:\n",
        "            print(\"Tie!\")\n",
        "            self.tie_score += 1\n",
        "        elif player1_choice == \"rock\" and player2_choice == \"scissors\" or \\\n",
        "                player1_choice == \"paper\" and player2_choice == \"rock\" or \\\n",
        "                player1_choice == \"scissors\" and player2_choice == \"paper\":\n",
        "            print(\"Player 1 wins!\")\n",
        "            self.player1_score += 1\n",
        "        else:\n",
        "            print(\"Player 2 wins!\")\n",
        "            self.player2_score += 1\n",
        "\n",
        "    def print_stats(self):\n",
        "        print(\"Game statistics:\")\n",
        "        print(\"Player 1 score:\", self.player1_score)\n",
        "        print(\"Player 2 score:\", self.player2_score)\n",
        "        print(\"Ties:\", self.tie_score)\n",
        "\n",
        "def play_game():\n",
        "    game = Game()\n",
        "    num_players = input(\"Enter the number of players (1 or 2): \")\n",
        "    while num_players not in [\"1\", \"2\"]:\n",
        "        num_players = input(\"Invalid input. Enter the number of players (1 or 2): \")\n",
        "    num_players = int(num_players)\n",
        "\n",
        "    while True:\n",
        "        if num_players == 1:\n",
        "            player1_choice = input(\"Enter your choice (rock/paper/scissors): \")\n",
        "            while player1_choice not in [\"rock\", \"paper\", \"scissors\"]:\n",
        "                player1_choice = input(\"Invalid input. Enter your choice (rock/paper/scissors): \")\n",
        "            game.play(player1_choice)\n",
        "        else:\n",
        "            player1_choice = input(\"Player 1, enter your choice (rock/paper/scissors): \")\n",
        "            while player1_choice not in [\"rock\", \"paper\", \"scissors\"]:\n",
        "                player1_choice = input(\"Invalid input. Player 1, enter your choice (rock/paper/scissors): \")\n",
        "            player2_choice = input(\"Player 2, enter your choice (rock/paper/scissors): \")\n",
        "            while player2_choice not in [\"rock\", \"paper\", \"scissors\"]:\n",
        "                player2_choice = input(\"Invalid input. Player 2, enter your choice (rock/paper/scissors): \")\n",
        "            game.play(player1_choice, player2_choice)\n",
        "\n",
        "        game.print_stats()\n",
        "        play_again = input(\"Do you want to play again? (yes/no): \")\n",
        "        if play_again.lower() != \"yes\":\n",
        "            break\n",
        "\n",
        "if __name__ == \"__main__\":\n",
        "    play_game()"
      ]
    }
  ]
}